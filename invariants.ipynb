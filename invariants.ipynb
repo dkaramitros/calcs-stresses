{
 "cells": [
  {
   "cell_type": "markdown",
   "metadata": {},
   "source": [
    "# Cauchy Stress Tensor\n",
    "# Principal Stresses & Stress Invariants\n",
    "This is a summary of all the available expressions.  \n",
    "More details can be found at:  \n",
    "https://en.wikipedia.org/wiki/Cauchy_stress_tensor"
   ]
  },
  {
   "cell_type": "code",
   "execution_count": 1,
   "metadata": {},
   "outputs": [],
   "source": [
    "import numpy as np"
   ]
  },
  {
   "cell_type": "markdown",
   "metadata": {},
   "source": [
    "## Stress Definition"
   ]
  },
  {
   "cell_type": "markdown",
   "metadata": {},
   "source": [
    "### Vector Form\n",
    "$$\n",
    "\\sigma_{ij} = \\left[ \\begin{array}{c}\n",
    "    \\sigma_{xx} \\\\\n",
    "    \\sigma_{yy} \\\\\n",
    "    \\sigma_{zz} \\\\\n",
    "    \\sigma_{yz} \\\\\n",
    "    \\sigma_{xz} \\\\\n",
    "    \\sigma_{xy} \\\\\n",
    "    \\end{array} \\right]\n",
    "$$"
   ]
  },
  {
   "cell_type": "code",
   "execution_count": 2,
   "metadata": {},
   "outputs": [
    {
     "name": "stdout",
     "output_type": "stream",
     "text": [
      "[10 20 30  5 10 15]\n"
     ]
    }
   ],
   "source": [
    "s_vec = np.array([10,20,30,5,10,15])\n",
    "\n",
    "print(s_vec)"
   ]
  },
  {
   "cell_type": "markdown",
   "metadata": {},
   "source": [
    "### Matrix Form\n",
    "$$\n",
    "\\sigma_{ij} = \\left[ \\begin{array}{ccc}\n",
    "    \\sigma_{xx} && \\sigma_{xy} && \\sigma_{xz} \\\\\n",
    "    \\sigma_{yx} && \\sigma_{yy} && \\sigma_{yz} \\\\\n",
    "    \\sigma_{zx} && \\sigma_{zy} && \\sigma_{zz} \\\\\n",
    "    \\end{array} \\right]\n",
    "$$"
   ]
  },
  {
   "cell_type": "code",
   "execution_count": 3,
   "metadata": {},
   "outputs": [
    {
     "name": "stdout",
     "output_type": "stream",
     "text": [
      "[[10 15 10]\n",
      " [15 20  5]\n",
      " [10  5 30]]\n"
     ]
    }
   ],
   "source": [
    "s = np.array([\n",
    "    [s_vec[0],s_vec[5],s_vec[4]],\n",
    "    [s_vec[5],s_vec[1],s_vec[3]],\n",
    "    [s_vec[4],s_vec[3],s_vec[2]]\n",
    "])\n",
    "\n",
    "print(s)"
   ]
  },
  {
   "cell_type": "markdown",
   "metadata": {},
   "source": [
    "Also define Kronecker's Delta"
   ]
  },
  {
   "cell_type": "code",
   "execution_count": 4,
   "metadata": {},
   "outputs": [
    {
     "name": "stdout",
     "output_type": "stream",
     "text": [
      "[[1. 0. 0.]\n",
      " [0. 1. 0.]\n",
      " [0. 0. 1.]]\n"
     ]
    }
   ],
   "source": [
    "d = np.eye(3)\n",
    "\n",
    "print(d)"
   ]
  },
  {
   "cell_type": "markdown",
   "metadata": {},
   "source": [
    "## Stress Invariants"
   ]
  },
  {
   "cell_type": "markdown",
   "metadata": {},
   "source": [
    "### First Invariant\n",
    "$$\n",
    "I_1 = \\sigma_{xx}+\\sigma_{yy}+\\sigma_{zz}\n",
    "$$\n",
    "$$\n",
    "I_1 = \\sigma_{kk}\n",
    "$$\n",
    "$$\n",
    "I_1 = tr(\\sigma)\n",
    "$$"
   ]
  },
  {
   "cell_type": "code",
   "execution_count": 5,
   "metadata": {},
   "outputs": [
    {
     "name": "stdout",
     "output_type": "stream",
     "text": [
      "60\n",
      "60\n",
      "60\n"
     ]
    }
   ],
   "source": [
    "I1 = s[0,0]+s[1,1]+s[2,2]\n",
    "\n",
    "I1_alt1 = 0;\n",
    "for k in [0,1,2]:\n",
    "    I1_alt1 = I1_alt1 + s[k,k]\n",
    "\n",
    "I1_alt2 = np.trace(s)\n",
    "\n",
    "print(I1)\n",
    "print(I1_alt1)\n",
    "print(I1_alt2)"
   ]
  },
  {
   "cell_type": "markdown",
   "metadata": {},
   "source": [
    "### Second Invariant\n",
    "$$\n",
    "I_2 = \\left| \\begin{array}{cc} \\sigma_{yy} && \\sigma_{yz} \\\\ \\sigma_{zy} && \\sigma_{zz} \\end{array} \\right| +\n",
    "      \\left| \\begin{array}{cc} \\sigma_{xx} && \\sigma_{xz} \\\\ \\sigma_{zx} && \\sigma_{zz} \\end{array} \\right| +\n",
    "      \\left| \\begin{array}{cc} \\sigma_{xx} && \\sigma_{xy} \\\\ \\sigma_{yx} && \\sigma_{yy} \\end{array} \\right|\n",
    "$$\n",
    "$$\n",
    "I_2 = \\sigma_{xx} \\sigma_{yy} + \\sigma_{yy} \\sigma_{zz} + \\sigma_{xx} \\sigma_{zz} - \\sigma_{xy}^2 - \\sigma_{xz}^2 - \\sigma_{yz}^2\n",
    "$$\n",
    "$$\n",
    "I_2 = \\frac{1}{2} \\left( \\sigma_{ii} \\sigma_{jj} - \\sigma_{ij} \\sigma_{ji} \\right)\n",
    "$$\n",
    "$$\n",
    "I_2 = \\frac{1}{2} \\left[ \\left( tr(\\sigma) \\right)^2 - tr(\\sigma^2) \\right]\n",
    "$$"
   ]
  },
  {
   "cell_type": "code",
   "execution_count": 6,
   "metadata": {},
   "outputs": [
    {
     "name": "stdout",
     "output_type": "stream",
     "text": [
      "750.0000000000002\n",
      "750\n",
      "750.0\n",
      "750.0\n"
     ]
    }
   ],
   "source": [
    "I2 = np.linalg.det(np.array([[s[1,1],s[1,2]],[s[2,1],s[2,2]]])) + \\\n",
    "    np.linalg.det(np.array([[s[0,0],s[0,2]],[s[2,0],s[2,2]]])) + \\\n",
    "    np.linalg.det(np.array([[s[0,0],s[0,1]],[s[1,0],s[1,1]]]))\n",
    "\n",
    "I2_alt1 = s[0,0]*s[1,1]+s[1,1]*s[2,2]+s[0,0]*s[2,2]-s[0,1]**2-s[0,2]**2-s[1,2]**2\n",
    "\n",
    "I2_alt2 = 0\n",
    "for i in [0,1,2]:\n",
    "    for j in [0,1,2]:\n",
    "        I2_alt2 = I2_alt2 + (1/2)*(s[i,i]*s[j,j]-s[i,j]*s[j,i])\n",
    "\n",
    "I2_alt3 = (1/2)*(np.trace(s)**2-np.trace(s@s))\n",
    "\n",
    "print(I2)\n",
    "print(I2_alt1)\n",
    "print(I2_alt2)\n",
    "print(I2_alt3)"
   ]
  },
  {
   "cell_type": "markdown",
   "metadata": {},
   "source": [
    "### Third Invariant\n",
    "$$\n",
    "I_3 = \\left| \\begin{array}{ccc}\n",
    "    \\sigma_{xx} && \\sigma_{xy} && \\sigma_{xz} \\\\\n",
    "    \\sigma_{yx} && \\sigma_{yy} && \\sigma_{yz} \\\\\n",
    "    \\sigma_{zx} && \\sigma_{zy} && \\sigma_{zz} \\\\\n",
    "    \\end{array} \\right|\n",
    "$$\n",
    "$$\n",
    "I_3 = \\sigma_{xx}\\sigma_{yy}\\sigma_{zz} + 2\\sigma_{xy}\\sigma_{xz}\\sigma_{yz} - \\sigma_{xx}\\sigma_{yz}^2 - \\sigma_{yy}\\sigma_{xz}^2 - \\sigma_{zz}\\sigma_{xy}^2\n",
    "$$"
   ]
  },
  {
   "cell_type": "code",
   "execution_count": 7,
   "metadata": {},
   "outputs": [
    {
     "name": "stdout",
     "output_type": "stream",
     "text": [
      "-1500.0\n",
      "-1500\n"
     ]
    }
   ],
   "source": [
    "I3 = np.linalg.det(s)\n",
    "\n",
    "I3_alt1 = s[0,0]*s[1,1]*s[2,2]+2*s[0,1]*s[0,2]*s[1,2]-s[0,0]*s[1,2]**2-s[1,1]*s[0,2]**2-s[2,2]*s[0,1]**2\n",
    "\n",
    "print(I3)\n",
    "print(I3_alt1)"
   ]
  },
  {
   "cell_type": "markdown",
   "metadata": {},
   "source": [
    "## Principal Stresses"
   ]
  },
  {
   "cell_type": "markdown",
   "metadata": {},
   "source": [
    "### Characteristic Polynomial\n",
    "$$\n",
    "\\left| \\sigma_{ij} - \\lambda\\delta_{ij} \\right| = -\\lambda^3 + I_1\\lambda^2 - I_2\\lambda + I_3 = 0\n",
    "$$"
   ]
  },
  {
   "cell_type": "code",
   "execution_count": 8,
   "metadata": {},
   "outputs": [
    {
     "name": "stdout",
     "output_type": "stream",
     "text": [
      "[40.63415448 21.11418479 -1.74833927]\n"
     ]
    }
   ],
   "source": [
    "poly = np.array([-1,+I1,-I2,+I3])\n",
    "s_prin = np.roots(poly)\n",
    "\n",
    "print(s_prin)"
   ]
  },
  {
   "cell_type": "markdown",
   "metadata": {},
   "source": [
    "### Additional Expressions\n",
    "$$\n",
    "I_1 = \\sigma_1 + \\sigma_2 + \\sigma_3\n",
    "$$\n",
    "$$\n",
    "I_2 = \\sigma_1 \\sigma_2 + \\sigma_2 \\sigma_3 + \\sigma_3 \\sigma_1\n",
    "$$\n",
    "$$\n",
    "I_3 = \\sigma_1 \\sigma_2 \\sigma_3\n",
    "$$"
   ]
  },
  {
   "cell_type": "code",
   "execution_count": 9,
   "metadata": {},
   "outputs": [
    {
     "name": "stdout",
     "output_type": "stream",
     "text": [
      "60 59.99999999999997\n",
      "750.0000000000002 749.9999999999994\n",
      "-1500.0 -1499.9999999999986\n"
     ]
    }
   ],
   "source": [
    "I1_prin = s_prin[0]+s_prin[1]+s_prin[2]\n",
    "I2_prin = s_prin[0]*s_prin[1]+s_prin[1]*s_prin[2]+s_prin[2]*s_prin[0]\n",
    "I3_prin = s_prin[0]*s_prin[1]*s_prin[2]\n",
    "\n",
    "print(I1,I1_prin)\n",
    "print(I2,I2_prin)\n",
    "print(I3,I3_prin)"
   ]
  },
  {
   "cell_type": "markdown",
   "metadata": {},
   "source": [
    "## Deviatoric Stresses"
   ]
  },
  {
   "cell_type": "markdown",
   "metadata": {},
   "source": [
    "### Mean Stress & Deviatoric Stress Tensor\n",
    "$$\n",
    "p = \\frac{1}{3}I_1\n",
    "$$\n",
    "$$\n",
    "s = \\sigma_{ij} - p\\delta_{ij}\n",
    "$$"
   ]
  },
  {
   "cell_type": "code",
   "execution_count": 10,
   "metadata": {},
   "outputs": [
    {
     "name": "stdout",
     "output_type": "stream",
     "text": [
      "20.0\n",
      "[[-10.  15.  10.]\n",
      " [ 15.   0.   5.]\n",
      " [ 10.   5.  10.]]\n"
     ]
    }
   ],
   "source": [
    "p = I1/3\n",
    "sp = p*d\n",
    "sq = s-sp\n",
    "\n",
    "print(p)\n",
    "print(sq)"
   ]
  },
  {
   "cell_type": "markdown",
   "metadata": {},
   "source": [
    "## Deviatoric Stress Invariants"
   ]
  },
  {
   "cell_type": "markdown",
   "metadata": {},
   "source": [
    "### First Invariant\n",
    "$$\n",
    "J_1 = 0\n",
    "$$"
   ]
  },
  {
   "cell_type": "code",
   "execution_count": 11,
   "metadata": {},
   "outputs": [
    {
     "name": "stdout",
     "output_type": "stream",
     "text": [
      "0\n"
     ]
    }
   ],
   "source": [
    "J1 = 0\n",
    "print(J1)"
   ]
  },
  {
   "cell_type": "markdown",
   "metadata": {},
   "source": [
    "### Second Invariant\n",
    "$$\n",
    "J_2 = \\frac{1}{2} s_{ij}s_{ij}\n",
    "$$\n",
    "$$\n",
    "J_2 = \\frac{1}{2} (s_{xx}^2 + s_{yy}^2 + s_{zz}^2 + 2s_{xy}^2 + 2s_{xz}^2 + 2s_{yz}^2)\n",
    "$$\n",
    "$$\n",
    "J_2 = \\frac{1}{2} tr(s^2)\n",
    "$$\n",
    "$$\n",
    "J_2 = \\frac{1}{6} \\left[ (\\sigma_{xx}-\\sigma_{yy})^2+(\\sigma_{yy}-\\sigma_{zz})^2+(\\sigma_{zz}-\\sigma_{xx})^2 \\right]\n",
    "    +\\sigma_{xy}^2+\\sigma_{yz}^2+\\sigma_{zx}^2\n",
    "$$\n",
    "$$\n",
    "J_2 = \\frac{1}{6} \\left[ (\\sigma_{1}-\\sigma_{2})^2+(\\sigma_{2}-\\sigma_{3})^2+(\\sigma_{3}-\\sigma_{1})^2 \\right]\n",
    "$$\n",
    "$$\n",
    "J_2 = \\frac{1}{3} I_1^2 - I_2\n",
    "$$\n",
    "$$\n",
    "J_2 = \\frac{1}{2} \\left[ tr(\\sigma^2)-\\frac{1}{3}tr(\\sigma)^2 \\right]\n",
    "$$"
   ]
  },
  {
   "cell_type": "code",
   "execution_count": 12,
   "metadata": {},
   "outputs": [
    {
     "name": "stdout",
     "output_type": "stream",
     "text": [
      "450.0\n",
      "450.0\n",
      "450.0\n",
      "450.0\n",
      "449.9999999999993\n",
      "449.9999999999998\n",
      "450.0\n"
     ]
    }
   ],
   "source": [
    "J2=0\n",
    "for i in [0,1,2]:\n",
    "    for j in [0,1,2]:\n",
    "        J2 = J2 + (1/2)*sq[i,j]*sq[j,i]\n",
    "\n",
    "J2_alt1 = (1/2)*(sq[0,0]**2+sq[1,1]**2+sq[2,2]**2+2*sq[0,1]**2+2*sq[0,2]**2+2*sq[1,2]**2)\n",
    "\n",
    "J2_alt2 = (1/2)*np.trace(sq@sq)\n",
    "\n",
    "J2_alt3 = (1/6)*((s[0,0]-s[1,1])**2+(s[1,1]-s[2,2])**2+(s[2,2]-s[0,0])**2)+s[0,1]**2+s[1,2]**2+s[2,0]**2\n",
    "\n",
    "J2_alt4 = (1/6)*((s_prin[0]-s_prin[1])**2+(s_prin[1]-s_prin[2])**2+(s_prin[2]-s_prin[0])**2)\n",
    "\n",
    "J2_alt5 = (1/3)*I1**2-I2\n",
    "\n",
    "J2_alt6 = (1/2)*(np.trace(s@s)-(1/3)*np.trace(s)**2)\n",
    "\n",
    "print(J2)\n",
    "print(J2_alt1)\n",
    "print(J2_alt2)\n",
    "print(J2_alt3)\n",
    "print(J2_alt4)\n",
    "print(J2_alt5)\n",
    "print(J2_alt6)"
   ]
  },
  {
   "cell_type": "markdown",
   "metadata": {},
   "source": [
    "### Third Invariant\n",
    "$$\n",
    "J_3 = \\left| \\begin{array}{ccc}\n",
    "    s_{xx} && s_{xy} && s_{xz} \\\\\n",
    "    s_{yx} && s_{yy} && s_{yz} \\\\\n",
    "    s_{zx} && s_{zy} && s_{zz} \\\\\n",
    "    \\end{array} \\right|\n",
    "$$\n",
    "$$\n",
    "J_3 = \\frac{1}{3} s_{ij}s_{jk}s_{ki}\n",
    "$$\n",
    "$$\n",
    "J_3 = \\frac{1}{3} (s_{xx}^3+s_{yy}^3+s_{zz}^3 + 6s_{xy}s_{xz}s_{yz} + 3s_{xx}s_{xy}^2+3s_{xx}s_{xz}^2 + 3s_{yy}s_{yx}^2+3s_{yy}s_{yz}^2 + 3s_{zz}s_{zx}^2+3s_{zz}s_{zy}^2)\n",
    "$$\n",
    "$$\n",
    "J_3 = s_{xx}s_{yy}s_{zz}+2s_{xy}s_{xz}s_{yz}-s_{xx}s_{yz}^2-s_{yy}s_{xz}^2-s_{zz}s_{xy}^2\n",
    "$$\n",
    "$$\n",
    "J_3 = \\frac{1}{3} tr(s^3)\n",
    "$$\n",
    "$$\n",
    "J_3 = \\frac{2}{27} I_1^3 - \\frac{1}{3}I_1I_2 + I_3\n",
    "$$\n",
    "$$\n",
    "J_3 = \\frac{1}{3} \\left[ tr(\\sigma^3) - tr(\\sigma^2)tr(\\sigma) + \\frac{2}{9}tr(\\sigma)^3 \\right]\n",
    "$$"
   ]
  },
  {
   "cell_type": "code",
   "execution_count": 13,
   "metadata": {},
   "outputs": [
    {
     "name": "stdout",
     "output_type": "stream",
     "text": [
      "-500.0000000000003\n",
      "-499.9999999999998\n",
      "-500.0\n",
      "-500.0\n",
      "-500.0\n",
      "-500.00000000000364\n",
      "-500.0\n"
     ]
    }
   ],
   "source": [
    "J3 = np.linalg.det(sq)\n",
    "\n",
    "J3_alt1=0\n",
    "for i in [0,1,2]:\n",
    "    for j in [0,1,2]:\n",
    "        for k in [0,1,2]:\n",
    "            J3_alt1 = J3_alt1 + (1/3)*sq[i,j]*sq[j,k]*sq[k,i]\n",
    "\n",
    "J3_alt2 = (1/3)*(sq[0,0]**3+sq[1,1]**3+sq[2,2]**3+ \\\n",
    "    6*sq[0,1]*sq[0,2]*sq[1,2]+ \\\n",
    "    3*sq[0,0]*sq[0,1]**2+3*sq[0,0]*sq[0,2]**2+ \\\n",
    "    3*sq[1,1]*sq[1,0]**2+3*sq[1,1]*sq[1,2]**2+ \\\n",
    "    3*sq[2,2]*sq[2,0]**2+3*sq[2,2]*sq[2,1]**2)\n",
    "\n",
    "J3_alt3 = sq[0,0]*sq[1,1]*sq[2,2]+2*sq[0,1]*sq[0,2]*sq[1,2] \\\n",
    "    -sq[0,0]*sq[1,2]**2-sq[1,1]*sq[0,2]**2-sq[2,2]*sq[0,1]**2\n",
    "\n",
    "J3_alt4 = (1/3)*np.trace(sq@sq@sq)\n",
    "\n",
    "J3_alt5 = (2/27)*I1**3-(1/3)*I1*I2+I3\n",
    "\n",
    "J3_alt6 = (1/3)*(np.trace(s@s@s)-np.trace(s@s)*np.trace(s)+(2/9)*np.trace(s)**3)\n",
    "\n",
    "print(J3)\n",
    "print(J3_alt1)\n",
    "print(J3_alt2)\n",
    "print(J3_alt3)\n",
    "print(J3_alt4)\n",
    "print(J3_alt5)\n",
    "print(J3_alt6)"
   ]
  },
  {
   "cell_type": "markdown",
   "metadata": {},
   "source": [
    "## Principal Deviatoric Stresses"
   ]
  },
  {
   "cell_type": "markdown",
   "metadata": {},
   "source": [
    "### Characteristic Polynomial\n",
    "$$\n",
    "\\left| s_{ij} - \\lambda\\delta_{ij} \\right| = \\lambda^3 - J_1\\lambda^2 - J_2\\lambda - J_3 = 0\n",
    "$$"
   ]
  },
  {
   "cell_type": "code",
   "execution_count": 14,
   "metadata": {},
   "outputs": [
    {
     "name": "stdout",
     "output_type": "stream",
     "text": [
      "[-21.74833927  20.63415448   1.11418479]\n"
     ]
    }
   ],
   "source": [
    "poly_q = np.array([1,-J1,-J2,-J3])\n",
    "sq_prin = np.roots(poly_q)\n",
    "\n",
    "print(sq_prin)"
   ]
  },
  {
   "cell_type": "markdown",
   "metadata": {},
   "source": [
    "### Additional Expressions\n",
    "$$\n",
    "J_1 = 0\n",
    "$$\n",
    "$$\n",
    "J_2 = \\frac{1}{2} (s_1^2 + s_2^2 + s_3^2)\n",
    "$$\n",
    "$$\n",
    "J_3 = \\frac{1}{3} (s_1^3 + s_2^3 + s_3^3)\n",
    "$$"
   ]
  },
  {
   "cell_type": "code",
   "execution_count": 15,
   "metadata": {},
   "outputs": [
    {
     "name": "stdout",
     "output_type": "stream",
     "text": [
      "0 0\n",
      "450.0 450.00000000000017\n",
      "-500.0000000000003 -500.0000000000087\n"
     ]
    }
   ],
   "source": [
    "J1_prin = 0\n",
    "J2_prin = (1/2)*(sq_prin[0]**2+sq_prin[1]**2+sq_prin[2]**2)\n",
    "J3_prin = (1/3)*(sq_prin[0]**3+sq_prin[1]**3+sq_prin[2]**3)\n",
    "\n",
    "print(J1,J1_prin)\n",
    "print(J2,J2_prin)\n",
    "print(J3,J3_prin)"
   ]
  },
  {
   "cell_type": "markdown",
   "metadata": {},
   "source": [
    "## Other Stress Components"
   ]
  },
  {
   "cell_type": "markdown",
   "metadata": {},
   "source": [
    "### Von Mises Stress\n",
    "$$\n",
    "q = \\sqrt{3J_2}\n",
    "$$\n",
    "Different expressions can be found, based on the expression of $ J_2 $ (see above)."
   ]
  },
  {
   "cell_type": "code",
   "execution_count": 16,
   "metadata": {},
   "outputs": [
    {
     "name": "stdout",
     "output_type": "stream",
     "text": [
      "36.742346141747674\n"
     ]
    }
   ],
   "source": [
    "q = np.sqrt(3*J2)\n",
    "\n",
    "print(q)"
   ]
  },
  {
   "cell_type": "markdown",
   "metadata": {},
   "source": [
    "### Lode Angle\n",
    "$$\n",
    "\\alpha_s = \\frac{1}{3} \\arccos \\left( \\frac{3\\sqrt{3}J_3}{2J_2^\\frac{3}{2}} \\right)\n",
    "$$"
   ]
  },
  {
   "cell_type": "code",
   "execution_count": 17,
   "metadata": {},
   "outputs": [
    {
     "name": "stdout",
     "output_type": "stream",
     "text": [
      "0.5691008793190673\n"
     ]
    }
   ],
   "source": [
    "a_s = (np.arccos((3*np.sqrt(3)*J3)/(2*J2**(3/2))))/3\n",
    "\n",
    "print(a_s)"
   ]
  },
  {
   "cell_type": "markdown",
   "metadata": {},
   "source": [
    "$$\n",
    "\\beta = \\frac{\\sin(\\alpha_s)}{\\sin(\\frac{\\pi}{3}+\\alpha_s)}\n",
    "$$\n",
    "$$\n",
    "\\beta = \\frac{\\sigma_2-\\sigma_3}{\\sigma_1-\\sigma_3}\n",
    "$$"
   ]
  },
  {
   "cell_type": "code",
   "execution_count": 18,
   "metadata": {},
   "outputs": [
    {
     "name": "stdout",
     "output_type": "stream",
     "text": [
      "0.5394331962128812\n",
      "0.5394331962128817\n"
     ]
    }
   ],
   "source": [
    "b_as=np.sin(a_s)/np.sin(np.pi/3+a_s)\n",
    "b_s=(s_prin[1]-s_prin[2])/(s_prin[0]-s_prin[2])\n",
    "\n",
    "print(b_as)\n",
    "print(b_s)"
   ]
  },
  {
   "cell_type": "markdown",
   "metadata": {},
   "source": [
    "## Alternative Expressions for Principal Stresses\n",
    "$$\n",
    "T = \\sqrt{J2}\n",
    "$$\n",
    "$$\n",
    "s_1 = \\frac{2}{\\sqrt3} T \\cos\\left(\\alpha_s\\right)\n",
    "$$\n",
    "$$\n",
    "s_2 = -\\frac{2}{\\sqrt3} T \\cos\\left(\\frac{\\pi}{3}+\\alpha_s\\right)\n",
    "$$\n",
    "$$\n",
    "s_3 = -\\frac{2}{\\sqrt3} T \\cos\\left(\\frac{\\pi}{3}+\\alpha_s\\right)\n",
    "$$"
   ]
  },
  {
   "cell_type": "code",
   "execution_count": 19,
   "metadata": {},
   "outputs": [
    {
     "name": "stdout",
     "output_type": "stream",
     "text": [
      "[-21.74833927  20.63415448   1.11418479]\n",
      "[ 20.63415448   1.11418479 -21.74833927]\n"
     ]
    }
   ],
   "source": [
    "T = np.sqrt(J2)\n",
    "sq_prin_alt = np.array([\n",
    "    (2/np.sqrt(3))*T*np.cos(a_s),\n",
    "    -(2/np.sqrt(3))*T*np.cos(np.pi/3+a_s),\n",
    "    -(2/np.sqrt(3))*T*np.cos(np.pi/3-a_s)\n",
    "])\n",
    "\n",
    "print(sq_prin)\n",
    "print(sq_prin_alt)"
   ]
  }
 ],
 "metadata": {
  "kernelspec": {
   "display_name": "base",
   "language": "python",
   "name": "python3"
  },
  "language_info": {
   "codemirror_mode": {
    "name": "ipython",
    "version": 3
   },
   "file_extension": ".py",
   "mimetype": "text/x-python",
   "name": "python",
   "nbconvert_exporter": "python",
   "pygments_lexer": "ipython3",
   "version": "3.10.9"
  }
 },
 "nbformat": 4,
 "nbformat_minor": 2
}
